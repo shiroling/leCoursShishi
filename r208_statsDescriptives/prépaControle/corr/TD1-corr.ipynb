{
 "cells": [
  {
   "cell_type": "code",
   "execution_count": 2,
   "metadata": {},
   "outputs": [],
   "source": [
    "import numpy as np\n",
    "import pickle\n",
    "import matplotlib.pyplot as plt"
   ]
  },
  {
   "cell_type": "markdown",
   "metadata": {
    "jp-MarkdownHeadingCollapsed": true,
    "tags": []
   },
   "source": [
    "# 2 La boîte à outils mathématiques : numpy"
   ]
  },
  {
   "cell_type": "markdown",
   "metadata": {},
   "source": [
    "## Exercice 1"
   ]
  },
  {
   "cell_type": "code",
   "execution_count": null,
   "metadata": {},
   "outputs": [],
   "source": [
    "a = np.array([1,2,3])\n",
    "type(a)"
   ]
  },
  {
   "cell_type": "code",
   "execution_count": null,
   "metadata": {},
   "outputs": [],
   "source": [
    "a.shape"
   ]
  },
  {
   "cell_type": "code",
   "execution_count": 3,
   "metadata": {},
   "outputs": [
    {
     "data": {
      "text/plain": [
       "(2, 2)"
      ]
     },
     "execution_count": 3,
     "metadata": {},
     "output_type": "execute_result"
    }
   ],
   "source": [
    "b = np.array([[1,2],[8,13]])\n",
    "b.shape"
   ]
  },
  {
   "cell_type": "code",
   "execution_count": 4,
   "metadata": {},
   "outputs": [
    {
     "data": {
      "text/plain": [
       "array([[0., 0., 0., 0.],\n",
       "       [0., 0., 0., 0.],\n",
       "       [0., 0., 0., 0.],\n",
       "       [0., 0., 0., 0.],\n",
       "       [0., 0., 0., 0.]])"
      ]
     },
     "execution_count": 4,
     "metadata": {},
     "output_type": "execute_result"
    }
   ],
   "source": [
    "a = np.zeros((5,4))\n",
    "a"
   ]
  },
  {
   "cell_type": "code",
   "execution_count": null,
   "metadata": {},
   "outputs": [],
   "source": [
    "b = np.ones((2,3))\n",
    "b"
   ]
  },
  {
   "cell_type": "code",
   "execution_count": null,
   "metadata": {},
   "outputs": [],
   "source": [
    "(n,m) = b.shape\n",
    "n,m"
   ]
  },
  {
   "cell_type": "code",
   "execution_count": null,
   "metadata": {},
   "outputs": [],
   "source": [
    "c = np.arange(start=3,stop=10,step=0.5)\n",
    "c"
   ]
  },
  {
   "cell_type": "code",
   "execution_count": 5,
   "metadata": {},
   "outputs": [
    {
     "data": {
      "text/plain": [
       "array([0, 1, 2, 3, 4])"
      ]
     },
     "execution_count": 5,
     "metadata": {},
     "output_type": "execute_result"
    }
   ],
   "source": [
    "a = np.arange(0,5)\n",
    "a"
   ]
  },
  {
   "cell_type": "code",
   "execution_count": null,
   "metadata": {},
   "outputs": [],
   "source": [
    "np.exp(a)"
   ]
  },
  {
   "cell_type": "code",
   "execution_count": null,
   "metadata": {},
   "outputs": [],
   "source": [
    "10**a"
   ]
  },
  {
   "cell_type": "code",
   "execution_count": 6,
   "metadata": {},
   "outputs": [
    {
     "data": {
      "text/plain": [
       "array([[0.15612644, 0.72254881, 0.47273212, 0.11044214, 0.63742877],\n",
       "       [0.2572823 , 0.54757938, 0.40321018, 0.02615522, 0.05053117],\n",
       "       [0.21617175, 0.63672891, 0.61447471, 0.38070736, 0.02559262],\n",
       "       [0.16860591, 0.75233839, 0.60157713, 0.36360828, 0.33466388]])"
      ]
     },
     "execution_count": 6,
     "metadata": {},
     "output_type": "execute_result"
    }
   ],
   "source": [
    "a = np.random.random((4,5))\n",
    "a"
   ]
  },
  {
   "cell_type": "code",
   "execution_count": null,
   "metadata": {},
   "outputs": [],
   "source": [
    "b = np.ones((4,5))\n",
    "a + b"
   ]
  },
  {
   "cell_type": "code",
   "execution_count": null,
   "metadata": {},
   "outputs": [],
   "source": [
    "sum(b)"
   ]
  },
  {
   "cell_type": "code",
   "execution_count": null,
   "metadata": {},
   "outputs": [],
   "source": [
    "a.min()"
   ]
  },
  {
   "cell_type": "code",
   "execution_count": null,
   "metadata": {},
   "outputs": [],
   "source": [
    "c = a.sum(1)\n",
    "c"
   ]
  },
  {
   "cell_type": "code",
   "execution_count": null,
   "metadata": {},
   "outputs": [],
   "source": [
    "d = a[:,1:3]\n",
    "d"
   ]
  },
  {
   "cell_type": "code",
   "execution_count": null,
   "metadata": {},
   "outputs": [],
   "source": [
    "b = np.copy(a)"
   ]
  },
  {
   "cell_type": "code",
   "execution_count": null,
   "metadata": {},
   "outputs": [],
   "source": [
    "def carre(x):\n",
    "    return x**2\n",
    "carre"
   ]
  },
  {
   "cell_type": "code",
   "execution_count": null,
   "metadata": {},
   "outputs": [],
   "source": [
    "carre(2)"
   ]
  },
  {
   "cell_type": "code",
   "execution_count": null,
   "metadata": {},
   "outputs": [],
   "source": [
    "carre = carre(2)\n",
    "carre"
   ]
  },
  {
   "cell_type": "code",
   "execution_count": null,
   "metadata": {},
   "outputs": [],
   "source": [
    "carre(2)"
   ]
  },
  {
   "cell_type": "code",
   "execution_count": null,
   "metadata": {},
   "outputs": [],
   "source": [
    "l = [1,2,3]\n",
    "type(l)"
   ]
  },
  {
   "cell_type": "code",
   "execution_count": null,
   "metadata": {},
   "outputs": [],
   "source": [
    "l = np.array(l)\n",
    "type(l)"
   ]
  },
  {
   "cell_type": "code",
   "execution_count": null,
   "metadata": {},
   "outputs": [],
   "source": [
    "l = list(l)\n",
    "type(l)"
   ]
  },
  {
   "cell_type": "markdown",
   "metadata": {
    "jp-MarkdownHeadingCollapsed": true,
    "tags": []
   },
   "source": [
    "# 3 Ouvrir et écrire dans des fichiers avec pickle"
   ]
  },
  {
   "cell_type": "code",
   "execution_count": null,
   "metadata": {},
   "outputs": [],
   "source": [
    "f = open(\"premierfichier.txt\", \"wb\")\n",
    "x = np.random.random((10,10))\n",
    "pickle.dump(x,f)\n",
    "f.close()"
   ]
  },
  {
   "cell_type": "code",
   "execution_count": null,
   "metadata": {},
   "outputs": [],
   "source": [
    "x"
   ]
  },
  {
   "cell_type": "code",
   "execution_count": null,
   "metadata": {},
   "outputs": [],
   "source": [
    "f = open(\"premierfichier.txt\", \"rb\")\n",
    "y = pickle.load(f)\n",
    "f.close()"
   ]
  },
  {
   "cell_type": "code",
   "execution_count": null,
   "metadata": {},
   "outputs": [],
   "source": [
    "y"
   ]
  },
  {
   "cell_type": "code",
   "execution_count": null,
   "metadata": {},
   "outputs": [],
   "source": [
    "np.all(x == y)"
   ]
  },
  {
   "cell_type": "code",
   "execution_count": null,
   "metadata": {},
   "outputs": [],
   "source": []
  },
  {
   "cell_type": "markdown",
   "metadata": {},
   "source": [
    "## Exercice 2"
   ]
  },
  {
   "cell_type": "code",
   "execution_count": null,
   "metadata": {},
   "outputs": [],
   "source": [
    "f = open('pop2011.txt', 'rb')\n",
    "x = pickle.load(f)\n",
    "f.close()\n",
    "x"
   ]
  },
  {
   "cell_type": "code",
   "execution_count": null,
   "metadata": {},
   "outputs": [],
   "source": [
    "with open('pop2011.txt', 'rb') as f:\n",
    "    x = pickle.load(f)\n",
    "x"
   ]
  },
  {
   "cell_type": "code",
   "execution_count": null,
   "metadata": {},
   "outputs": [],
   "source": [
    "x.sum() / x.shape[0]"
   ]
  },
  {
   "cell_type": "code",
   "execution_count": null,
   "metadata": {},
   "outputs": [],
   "source": []
  },
  {
   "cell_type": "markdown",
   "metadata": {
    "tags": []
   },
   "source": [
    "# 4 Réaliser des graphes avec matplotlib.pyplot"
   ]
  },
  {
   "cell_type": "code",
   "execution_count": null,
   "metadata": {},
   "outputs": [],
   "source": [
    "plt.plot([3,1,3,1,2])\n",
    "plt.ylabel(\"ordonnées\")\n",
    "plt.xlabel(\"abscisses\")\n",
    "plt.show()"
   ]
  },
  {
   "cell_type": "code",
   "execution_count": null,
   "metadata": {},
   "outputs": [],
   "source": [
    "plt.plot([1,3,2,4],[1,4,9,16])\n",
    "plt.show()"
   ]
  },
  {
   "cell_type": "code",
   "execution_count": null,
   "metadata": {},
   "outputs": [],
   "source": [
    "plt.figure(2,figsize=(6,4))\n",
    "t = np.arange(0,6.2,0.1)\n",
    "plt.plot(t,np.cos(t),color=\"red\",label=\"cosinus\")\n",
    "plt.plot(t,np.sin(t),color=\"black\",label=\"sinus\")\n",
    "plt.xlabel(\"abscisses\")\n",
    "plt.ylabel(\"ordonnées\")\n",
    "plt.title(\"Représentation graphique des fonctions sinusoïdales\")\n",
    "plt.legend() \n",
    "plt.show()"
   ]
  },
  {
   "cell_type": "code",
   "execution_count": null,
   "metadata": {},
   "outputs": [],
   "source": []
  },
  {
   "cell_type": "markdown",
   "metadata": {},
   "source": [
    "## Exercice 3"
   ]
  },
  {
   "cell_type": "code",
   "execution_count": null,
   "metadata": {},
   "outputs": [],
   "source": [
    "x = np.arange(-1,2,0.01)\n",
    "y = x**2\n",
    "plt.figure(1)\n",
    "plt.plot(x,y, color=\"black\", label=\"x^2\")\n",
    "plt.plot(x, 2*x-1, \"red\", linestyle=\"dashed\", label=\"tangente en x=1\")\n",
    "plt.xlabel(\"abscisses\")\n",
    "plt.ylabel(\"ordonnées\")\n",
    "plt.title(\"Représentation graphique de la fonction carré et sa tangente en x=1\")\n",
    "plt.legend()\n",
    "plt.show()"
   ]
  },
  {
   "cell_type": "code",
   "execution_count": null,
   "metadata": {},
   "outputs": [],
   "source": []
  },
  {
   "cell_type": "code",
   "execution_count": null,
   "metadata": {},
   "outputs": [],
   "source": [
    "val_x = [0,1,2,3,4,5,6,7]\n",
    "eff_x = [5,7,8,4,2,2,1,1]\n",
    "plt.bar(val_x, eff_x, width=0.5, color=[\"red\",\"blue\",\"black\",\"green\",\"yellow\"])\n",
    "plt.xlabel(\"Nombre d’enfants\")\n",
    "plt.ylabel(\"Effectifs\")\n",
    "plt.title(\"Nombre d’enfants par familles\")\n",
    "plt.show()"
   ]
  },
  {
   "cell_type": "code",
   "execution_count": null,
   "metadata": {},
   "outputs": [],
   "source": []
  },
  {
   "cell_type": "markdown",
   "metadata": {},
   "source": [
    "## Exercice 4"
   ]
  },
  {
   "cell_type": "code",
   "execution_count": null,
   "metadata": {},
   "outputs": [],
   "source": [
    "region = ['Africa', 'Americas', 'South-East\\n Asia', 'Europe', 'Eastern\\n Mediterranean', 'Western\\n Pacific']\n",
    "esperance = [60.0, 76.9, 69.0, 76.8, 68.8, 76.6]\n",
    "colors = ['black', 'red', 'green', 'blue', 'orange', 'yellow']\n",
    "plt.bar(region, esperance, color=colors)\n",
    "plt.ylabel('espérance de vie')\n",
    "plt.title('Espérance de vie à la naissance en fonction des régions du monde')\n",
    "plt.show()"
   ]
  },
  {
   "cell_type": "code",
   "execution_count": null,
   "metadata": {},
   "outputs": [],
   "source": []
  },
  {
   "cell_type": "code",
   "execution_count": null,
   "metadata": {},
   "outputs": [],
   "source": [
    "x = [44,62,71,73,87]\n",
    "y = [40,57,59,65,77]\n",
    "plt.scatter(x,y)\n",
    "plt.xlabel(\"Longueur de l'humérus en cm\")\n",
    "plt.ylabel(\"Longeur du fémur en cm\")\n",
    "plt.title(\"Longueur du fémur en fonction de celle de l'humérus\")\n",
    "plt.show()"
   ]
  },
  {
   "cell_type": "code",
   "execution_count": null,
   "metadata": {},
   "outputs": [],
   "source": []
  },
  {
   "cell_type": "markdown",
   "metadata": {},
   "source": [
    "## Exercice 5"
   ]
  },
  {
   "cell_type": "code",
   "execution_count": null,
   "metadata": {},
   "outputs": [],
   "source": [
    "f = open('kangourou.txt', 'rb')\n",
    "tab = pickle.load(f)\n",
    "f.close()\n",
    "tab"
   ]
  },
  {
   "cell_type": "code",
   "execution_count": null,
   "metadata": {},
   "outputs": [],
   "source": [
    "with open('kangourou.txt', 'rb') as f:\n",
    "    tab = pickle.load(f)\n",
    "tab"
   ]
  },
  {
   "cell_type": "code",
   "execution_count": null,
   "metadata": {},
   "outputs": [],
   "source": [
    "plt.scatter(tab[:,0], tab[:,1])\n",
    "plt.xlabel(\"Longeur (1 unité = 0.1mm)\")\n",
    "plt.ylabel(\"Largeur (1 unité = 0.1mm)\")\n",
    "plt.title(\"Taille du nez des kangourous\")\n",
    "plt.show()"
   ]
  },
  {
   "cell_type": "code",
   "execution_count": null,
   "metadata": {},
   "outputs": [],
   "source": []
  },
  {
   "cell_type": "code",
   "execution_count": null,
   "metadata": {},
   "outputs": [],
   "source": [
    "val_x = [0,1,2,3,4,5,6,7]\n",
    "eff_x = [5,7,8,4,2,2,1,1]\n",
    "fig = plt.figure(figsize=[6,6])\n",
    "plt.pie(eff_x, labels=val_x, colors=[\"red\", \"blue\", \"yellow\", \"green\"], autopct=lambda x:str(round(x,2)) + \"%\", pctdistance=0.7)\n",
    "plt.title(\"Nombre d'enfants par familles\")\n",
    "plt.show()"
   ]
  },
  {
   "cell_type": "code",
   "execution_count": null,
   "metadata": {},
   "outputs": [],
   "source": []
  },
  {
   "cell_type": "markdown",
   "metadata": {},
   "source": [
    "## Exercice 6"
   ]
  },
  {
   "cell_type": "code",
   "execution_count": null,
   "metadata": {},
   "outputs": [],
   "source": [
    "x = [314, 100, 47, 35, 31, 17, 16, 16]\n",
    "labels = ['La république en marche', 'Les Républicains', 'Mouvement démocrate et apparentés', 'Les constructifs : républicains, UDI, indépendants', \n",
    "          'Nouvelle Gauche', 'La France Insoumise', 'Gauche démocrate et républicaine ', 'Non inscrit']\n",
    "colors = ['gold', 'darkturquoise', 'cyan', 'orange', 'deeppink', 'darkred', 'red', 'grey']\n",
    "plt.figure(1, figsize=(10, 10))\n",
    "plt.pie(x, labels=labels, autopct=lambda x:str(round(x,2)) + '%', pctdistance=0.8, colors=colors)\n",
    "plt.title('Assemblée parlementaire')\n",
    "plt.show()"
   ]
  },
  {
   "cell_type": "code",
   "execution_count": null,
   "metadata": {},
   "outputs": [],
   "source": [
    "plt.figure(1, figsize=(30, 6))\n",
    "plt.bar(labels, x, color=colors)\n",
    "plt.xlabel(\"Groupes parlementaires\")\n",
    "plt.ylabel(\"Nombre de députés\")\n",
    "plt.title(\"Nombre de députés de chaque groupe parlementaire\")\n",
    "plt.show()"
   ]
  },
  {
   "cell_type": "markdown",
   "metadata": {},
   "source": [
    "Les groupes parlementaires représentent un partage d'un tout (l'assemblée), il est donc plus pertinent de les représenter sous forme de diagramme circulaire."
   ]
  },
  {
   "cell_type": "code",
   "execution_count": null,
   "metadata": {},
   "outputs": [],
   "source": []
  },
  {
   "cell_type": "code",
   "execution_count": null,
   "metadata": {},
   "outputs": [],
   "source": [
    "y = [150]*30 + [157.5]*25 + [162.5]*23 + [170]*22\n",
    "plt.hist(y, density=True, bins=[145,155,160,165,175], edgecolor=\"black\")\n",
    "plt.xlabel(\"Taille en cm\")\n",
    "plt.title(\"Histogramme de la taille des collégiens\")\n",
    "plt.show()"
   ]
  },
  {
   "cell_type": "code",
   "execution_count": null,
   "metadata": {},
   "outputs": [],
   "source": []
  },
  {
   "cell_type": "markdown",
   "metadata": {},
   "source": [
    "## Exercice 7"
   ]
  },
  {
   "cell_type": "code",
   "execution_count": null,
   "metadata": {},
   "outputs": [],
   "source": [
    "mu = 100\n",
    "sigma = 15 \n",
    "x = mu + sigma*np.random.randn(1000)\n",
    "num_bins = 50\n",
    "n, bins, patches = plt.hist(x, num_bins)\n",
    "plt.xlabel('Valeur')\n",
    "plt.ylabel('Probabilite')\n",
    "plt.title(\"Histogramme d'une loi gaussienne : μ= 100,σ= 15\") \n",
    "plt.show()"
   ]
  },
  {
   "cell_type": "code",
   "execution_count": null,
   "metadata": {},
   "outputs": [],
   "source": []
  },
  {
   "cell_type": "markdown",
   "metadata": {},
   "source": [
    "## Exercice 8"
   ]
  },
  {
   "cell_type": "code",
   "execution_count": null,
   "metadata": {},
   "outputs": [],
   "source": [
    "academie = ['Aix-Marseille', 'Amiens', 'Besançon', 'Bordeaux', 'Caen', 'Clermont-Ferrand', 'Corse', 'Créteil']\n",
    "inscrits = [3732, 1661, 1103, 4270, 1384, 1455, 337, 4953]\n",
    "presents = [1496, 770, 484, 1632, 602, 453, 122, 1757]\n",
    "admissibles = [897, 567, 320, 784, 349, 217, 39, 1390]\n",
    "admis = [559, 435, 195, 382, 174, 110, 16, 1111]"
   ]
  },
  {
   "cell_type": "code",
   "execution_count": null,
   "metadata": {},
   "outputs": [],
   "source": [
    "x = range(1,len(academie) + 1)\n",
    "fig = plt.figure(1, figsize=(10, 5))\n",
    "plt.bar(x, inscrits, color='grey')\n",
    "plt.bar(x, presents, color='blue')\n",
    "plt.bar(x, admissibles, color='red')\n",
    "plt.bar(x, admis, color='black')\n",
    "plt.title('Données concours recrutement professuers des écoles')\n",
    "plt.xticks(x,academie)\n",
    "plt.show()"
   ]
  },
  {
   "cell_type": "code",
   "execution_count": null,
   "metadata": {},
   "outputs": [],
   "source": [
    "x = np.array(range(1,len(academie) + 1))\n",
    "barwidth = 0.2\n",
    "fig = plt.figure(1, figsize=(10, 5))\n",
    "plt.bar(x, inscrits, color='grey', width=barwidth, label='Inscrits')\n",
    "plt.bar(x + barwidth, presents, color='blue', width=barwidth, label='Présents')\n",
    "plt.bar(x + 2*barwidth, admissibles, color='red', width=barwidth, label='Admissibles')\n",
    "plt.bar(x + 3*barwidth, admis, color='black', width=barwidth, label='Admis')\n",
    "plt.title('Données concours recrutement professuers des écoles')\n",
    "plt.xticks(np.array(x) + 1.5*barwidth,academie)\n",
    "plt.legend()\n",
    "plt.show()"
   ]
  },
  {
   "cell_type": "code",
   "execution_count": null,
   "metadata": {},
   "outputs": [],
   "source": []
  },
  {
   "cell_type": "code",
   "execution_count": null,
   "metadata": {},
   "outputs": [],
   "source": []
  },
  {
   "cell_type": "code",
   "execution_count": null,
   "metadata": {},
   "outputs": [],
   "source": []
  }
 ],
 "metadata": {
  "kernelspec": {
   "display_name": "Python 3 (ipykernel)",
   "language": "python",
   "name": "python3"
  },
  "language_info": {
   "codemirror_mode": {
    "name": "ipython",
    "version": 3
   },
   "file_extension": ".py",
   "mimetype": "text/x-python",
   "name": "python",
   "nbconvert_exporter": "python",
   "pygments_lexer": "ipython3",
   "version": "3.9.7"
  }
 },
 "nbformat": 4,
 "nbformat_minor": 4
}
