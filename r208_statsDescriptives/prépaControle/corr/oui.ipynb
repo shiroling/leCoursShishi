{
 "cells": [
  {
   "cell_type": "code",
   "execution_count": 2,
   "id": "e1f31430-d034-4433-b6bb-d5fa5ffb88c7",
   "metadata": {},
   "outputs": [],
   "source": [
    "import numpy as np\n"
   ]
  },
  {
   "cell_type": "code",
   "execution_count": 9,
   "id": "94b64547-20f3-4561-9d9b-db4b8d411734",
   "metadata": {},
   "outputs": [],
   "source": [
    "n=[4,6,12,13,17]\n",
    "m=[2,3,6,7,9]\n"
   ]
  },
  {
   "cell_type": "code",
   "execution_count": 11,
   "id": "1ce7c83f-4478-44d1-b25b-199ff537eb9f",
   "metadata": {},
   "outputs": [
    {
     "data": {
      "text/plain": [
       "array([[28.3, 15.3],\n",
       "       [15.3,  8.3]])"
      ]
     },
     "execution_count": 11,
     "metadata": {},
     "output_type": "execute_result"
    }
   ],
   "source": [
    "#np.std(n)\n",
    "#np.mean(n)\n",
    "np.cov(n,m)"
   ]
  }
 ],
 "metadata": {
  "kernelspec": {
   "display_name": "Python 3 (ipykernel)",
   "language": "python",
   "name": "python3"
  },
  "language_info": {
   "codemirror_mode": {
    "name": "ipython",
    "version": 3
   },
   "file_extension": ".py",
   "mimetype": "text/x-python",
   "name": "python",
   "nbconvert_exporter": "python",
   "pygments_lexer": "ipython3",
   "version": "3.9.7"
  }
 },
 "nbformat": 4,
 "nbformat_minor": 5
}
