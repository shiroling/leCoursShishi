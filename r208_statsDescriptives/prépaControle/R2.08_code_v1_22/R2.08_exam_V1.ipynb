{
 "cells": [
  {
   "cell_type": "markdown",
   "metadata": {},
   "source": [
    "# Consignes"
   ]
  },
  {
   "cell_type": "markdown",
   "metadata": {},
   "source": [
    "Compléter les cellules vides afin qu'elles fournissent les réponses attendues.\n",
    "\n",
    "Dans la partie évaluée, seules les cellules qui s'executent seront évaluées et toute cellule qui ne s'execute pas (erreur) sera sanctionné.\n",
    "\n",
    "Vous pouvez rajouter des celulles à la fin du notebook (dans la partie non évaluée), si ces cellules ne s'executent pas, vous ne serez pas pénalisé.\n",
    "\n",
    "Avant de commencer l'évaluation, placer les fichiers de données dans le même dossier que le notebook.\n",
    "\n",
    "Merci de ne pas déplacer/supprimer de cellules ou ajouter de nouvelles dans la partie évaluée.\n",
    "\n",
    "Cette partie est notée sur 11 points (sur un total de 22 pour l'épreuve, dont 2 points bonus).\n",
    "\n",
    "Pensez à mettre des titres sur tous vos graphes."
   ]
  },
  {
   "cell_type": "code",
   "execution_count": null,
   "metadata": {},
   "outputs": [],
   "source": [
    "#Cellule réserver aux imports, faire tous les imports dans cette cellule.\n"
   ]
  },
  {
   "cell_type": "markdown",
   "metadata": {},
   "source": [
    "# Exercice 1"
   ]
  },
  {
   "cell_type": "markdown",
   "metadata": {},
   "source": [
    "Voici le tableau indiquant le nombre de buts par match de l'équipe de Metz en LFH (saison 2020/2021) :\n",
    "<table cellspacing=\"0\" cellpadding=\"0\" border=\"0\" bgcolor=\"#000000\">\n",
    "    <tr>\n",
    "        <td>\n",
    "            <table cellspacing=\"3\" border=\"0\">\n",
    "                <tr bgcolor=\"#ffffff\">\n",
    "                    <th>x<sub>i</sub></th>\n",
    "                    <td>Fleury</td>\n",
    "                    <td>Nantes</td>\n",
    "                    <td>Paris</td>\n",
    "                    <td>Nice</td>\n",
    "                    <td>Besançon</td>\n",
    "                    <td>Dijon</td>\n",
    "                    <td>Toulon</td>\n",
    "                    <td>Saint-Amand</td>\n",
    "                </tr>\n",
    "                <tr bgcolor=\"#ffffff\">\n",
    "                    <th>n<sub>i</sub></th>\n",
    "                    <td>39</td>\n",
    "                    <td>35</td>\n",
    "                    <td>26</td>\n",
    "                    <td>37</td>\n",
    "                    <td>37</td>\n",
    "                    <td>32</td>\n",
    "                    <td>32</td>\n",
    "                    <td>41</td>\n",
    "                </tr>\n",
    "            </table>\n",
    "        </td>\n",
    "    </tr>\n",
    "</table>"
   ]
  },
  {
   "cell_type": "markdown",
   "metadata": {},
   "source": [
    "## 1- Enregistrer les données dans les variables xi et ni"
   ]
  },
  {
   "cell_type": "code",
   "execution_count": 1,
   "metadata": {},
   "outputs": [
    {
     "data": {
      "text/plain": [
       "['Fleury',\n",
       " 'Nantes',\n",
       " 'Paris',\n",
       " 'Nice',\n",
       " 'Besançon',\n",
       " 'Dijon',\n",
       " 'Toulon',\n",
       " 'Saint-Amand']"
      ]
     },
     "execution_count": 1,
     "metadata": {},
     "output_type": "execute_result"
    }
   ],
   "source": [
    "xi = [\"Fleury\", \"Nantes\", \"Paris\", \"Nice\", \"Besançon\", \"Dijon\", \"Toulon\", \"Saint-Amand\"]\n",
    "xi"
   ]
  },
  {
   "cell_type": "code",
   "execution_count": 2,
   "metadata": {},
   "outputs": [
    {
     "data": {
      "text/plain": [
       "[39, 35, 26, 37, 37, 32, 32, 41]"
      ]
     },
     "execution_count": 2,
     "metadata": {},
     "output_type": "execute_result"
    }
   ],
   "source": [
    "ni = [39,35,26,37,37,32,32,41]\n",
    "ni"
   ]
  },
  {
   "cell_type": "markdown",
   "metadata": {},
   "source": [
    "## 2- Calculer le nombre de buts total et l'enregistrer dans la variable n"
   ]
  },
  {
   "cell_type": "code",
   "execution_count": 5,
   "metadata": {},
   "outputs": [
    {
     "data": {
      "text/plain": [
       "279"
      ]
     },
     "execution_count": 5,
     "metadata": {},
     "output_type": "execute_result"
    }
   ],
   "source": [
    "n = np.sum(ni)\n",
    "n"
   ]
  },
  {
   "cell_type": "markdown",
   "metadata": {},
   "source": [
    "## 3- Représenter ces données de manière informative"
   ]
  },
  {
   "cell_type": "code",
   "execution_count": 11,
   "metadata": {},
   "outputs": [
    {
     "data": {
      "image/png": "[encoded data removed]",
      "text/plain": [
       "<Figure size 864x360 with 1 Axes>"
      ]
     },
     "metadata": {
      "needs_background": "light"
     },
     "output_type": "display_data"
    }
   ],
   "source": [
    "plt.figure(figsize=(12,5))\n",
    "plt.bar(xi, ni)\n",
    "plt.xlabel(\"lieux\")\n",
    "plt.ylabel(\"nombre de buts\")\n",
    "plt.title(\"nombre de buts par lieux\")\n",
    "plt.show()"
   ]
  },
  {
   "cell_type": "markdown",
   "metadata": {},
   "source": [
    "# Exercice 2"
   ]
  },
  {
   "cell_type": "markdown",
   "metadata": {},
   "source": [
    "Dans la suite, le jeu de données à utilisé est le fichier \"data_v1.txt\" contenu dans la même archive que ce notebook."
   ]
  },
  {
   "cell_type": "markdown",
   "metadata": {},
   "source": [
    "## 1- Enregistrer les colonnes du jeu de données dans des variables x, y et z (respectivement)"
   ]
  },
  {
   "cell_type": "markdown",
   "metadata": {},
   "source": [
    "Rappel : les fichiers que je vous donne s'ouvrent avec pickle."
   ]
  },
  {
   "cell_type": "code",
   "execution_count": 17,
   "metadata": {},
   "outputs": [
    {
     "data": {
      "text/plain": [
       "array([[  4.48231632, 173.61495315, 457.166507  ],\n",
       "       [  2.64423524,  68.34950732, 166.58594283],\n",
       "       [  1.76220822,  20.20584824,  67.29951259],\n",
       "       ...,\n",
       "       [  2.56733115, 105.31121329, 247.06484611],\n",
       "       [  2.855454  , 196.50189684, 492.98519636],\n",
       "       [  2.63977198, 147.40297734, 376.98025124]])"
      ]
     },
     "execution_count": 17,
     "metadata": {},
     "output_type": "execute_result"
    }
   ],
   "source": [
    "#Utiliser cette cellule pour ouvrir le fichier et stocker son contenu dans une variable df = open(\"petal.txt\", \"rb\")\n",
    "f = open(\"data_v1.txt\", \"rb\")\n",
    "d = pickle.load(f)\n",
    "f.close()\n",
    "d"
   ]
  },
  {
   "cell_type": "code",
   "execution_count": 21,
   "metadata": {},
   "outputs": [
    {
     "data": {
      "text/plain": [
       "array([4.48231632, 2.64423524, 1.76220822, 4.64285215, 0.83278873,\n",
       "       4.33219708, 4.00885204, 2.61928003, 3.12313695, 3.93688516,\n",
       "       2.59623516, 4.0407167 , 3.17163938, 0.87641615, 1.03769506,\n",
       "       1.36782868, 1.50776884, 3.18669413, 2.32133607, 3.27368473,\n",
       "       1.44342133, 0.46024241, 2.18261703, 0.83527725, 3.78284721,\n",
       "       1.14846536, 2.92132645, 2.19279489, 3.26246667, 2.44716743,\n",
       "       1.53878798, 5.6083156 , 2.81018007, 1.22064105, 2.5741134 ,\n",
       "       2.54867259, 1.89546933, 2.10645271, 4.63641893, 2.33808737,\n",
       "       0.97868843, 2.15502076, 1.79284569, 0.64054958, 2.39408134,\n",
       "       3.94081616, 3.13869464, 3.93276087, 2.93392836, 1.21656667,\n",
       "       1.07036811, 5.51121439, 4.09048666, 2.90337161, 3.70832949,\n",
       "       2.51401192, 3.45256644, 2.57571221, 3.31892988, 1.94788869,\n",
       "       6.62215609, 4.73635799, 1.3621536 , 2.16075153, 3.50735012,\n",
       "       2.82432629, 1.57513693, 0.62903736, 2.76348919, 3.5432236 ,\n",
       "       4.29632836, 1.42325281, 2.28027092, 3.95107347, 2.94977919,\n",
       "       2.1162557 , 3.22344629, 2.27668326, 0.1942127 , 3.4732814 ,\n",
       "       5.44037361, 1.91765629, 4.12457685, 0.50069348, 3.3329832 ,\n",
       "       1.82106659, 1.50665761, 2.7503551 , 2.78650845, 1.34297903,\n",
       "       0.68718038, 0.78054163, 1.63520314, 1.89643939, 1.7054689 ,\n",
       "       2.29332295, 2.0473972 , 2.97006446, 1.16807985, 1.03351059,\n",
       "       3.37004575, 1.23190641, 0.85581315, 1.86329627, 3.07086165,\n",
       "       1.84586675, 2.21594263, 1.64284751, 2.71335513, 1.35003209,\n",
       "       3.12689662, 3.88313444, 1.88599707, 1.30759825, 1.97135348,\n",
       "       4.12385634, 6.16486419, 0.94013742, 3.44405081, 4.20647615,\n",
       "       1.56956184, 2.14475519, 4.66716015, 2.87086146, 4.01651599,\n",
       "       4.4458349 , 2.9154795 , 2.36872976, 2.54966019, 1.3009743 ,\n",
       "       1.30121595, 2.06779703, 1.65910561, 2.62751691, 5.9182549 ,\n",
       "       2.96712486, 1.65720801, 1.98691781, 1.53909751, 1.66574575,\n",
       "       3.12245954, 3.21040813, 3.0809728 , 4.09478533, 2.196456  ,\n",
       "       2.4641961 , 3.07099593, 4.75097453, 3.14574685, 1.6800351 ,\n",
       "       2.39133547, 1.37363206, 1.37359242, 3.33207685, 1.56336108,\n",
       "       2.18089652, 2.18558649, 1.73084273, 2.51002797, 3.37959029,\n",
       "       3.86606352, 1.82192441, 4.26725147, 2.95971554, 2.92712092,\n",
       "       1.68557304, 4.4353307 , 2.91652237, 1.00823294, 1.35923611,\n",
       "       2.05896956, 1.65470577, 4.89653688, 4.10649061, 0.66005474,\n",
       "       1.15564077, 2.42837948, 3.8618907 , 3.04497173, 3.56179251,\n",
       "       3.48717639, 1.37896313, 2.92189391, 2.9008227 , 3.95170132,\n",
       "       3.325437  , 1.07177151, 3.26514701, 1.53166606, 2.07048129,\n",
       "       1.19283822, 1.36504626, 3.75552972, 3.31295801, 2.23039574,\n",
       "       0.78650783, 1.43275599, 2.71952873, 2.68133079, 4.47905643,\n",
       "       1.61128041, 2.77810372, 2.21415968, 3.10347002, 0.91191897,\n",
       "       3.36570669, 1.06024823, 2.07979126, 2.56256353, 2.98761597,\n",
       "       1.7784836 , 3.23071954, 3.41467011, 1.99056907, 4.95954932,\n",
       "       4.33424292, 3.98549068, 3.96059183, 0.50475433, 2.05611801,\n",
       "       1.93833564, 1.44250189, 1.73495159, 2.8883978 , 1.53006801,\n",
       "       2.07299015, 2.6147845 , 7.66420843, 1.61101329, 2.84749082,\n",
       "       4.24908691, 3.76275959, 5.12934276, 0.87011994, 5.25098562,\n",
       "       1.80517277, 2.68887894, 2.21559455, 2.07927551, 1.6719767 ,\n",
       "       2.10464159, 2.08955628, 2.21346752, 1.76175383, 2.65419922,\n",
       "       1.40828111, 2.27456511, 0.79492503, 3.55034439, 1.40590366,\n",
       "       1.72531933, 4.91916693, 6.03438556, 3.06271733, 3.08934159,\n",
       "       4.87951539, 1.78132043, 1.3049148 , 1.17898232, 4.23137986,\n",
       "       2.0653848 , 4.17491343, 1.16245674, 1.02664706, 1.36424246,\n",
       "       2.21504438, 3.04499449, 4.64737467, 2.12105201, 1.89189718,\n",
       "       4.99420917, 0.10046232, 1.85738027, 1.36033353, 3.35954576,\n",
       "       3.80667719, 3.89327348, 3.65213776, 2.75078618, 6.00612958,\n",
       "       2.34031568, 2.47299763, 2.78609108, 4.89056955, 2.2954843 ,\n",
       "       5.90443872, 4.26443997, 3.38436072, 4.32754606, 2.90828127,\n",
       "       1.75759001, 1.51964488, 2.96592563, 4.63801607, 3.42944819,\n",
       "       2.01370239, 1.30294066, 0.82017173, 1.87437832, 3.70046401,\n",
       "       4.60905124, 1.0811757 , 3.30926395, 3.75887424, 4.56637039,\n",
       "       4.27054989, 1.5733453 , 1.23852555, 2.83933103, 0.83191685,\n",
       "       5.84303334, 1.31262245, 1.77373623, 1.27531269, 3.12516794,\n",
       "       1.80473403, 2.06988756, 0.59646117, 1.43311281, 1.112745  ,\n",
       "       1.58683129, 2.71840611, 5.09622764, 4.59730001, 2.81655417,\n",
       "       3.4040811 , 3.07939431, 2.60462406, 4.94072238, 2.08719046,\n",
       "       3.24410049, 2.3773301 , 1.51890399, 4.13114376, 2.348953  ,\n",
       "       4.61308929, 4.54512961, 3.19279046, 3.05099144, 1.82049674,\n",
       "       3.26473052, 1.45371219, 2.92879124, 0.26142682, 4.43655652,\n",
       "       3.29055807, 1.60394952, 2.08284128, 1.67022127, 5.46281254,\n",
       "       3.7093129 , 6.85019517, 1.86419211, 1.77098494, 2.66759691,\n",
       "       5.76724499, 1.76082998, 5.46555586, 3.0717672 , 1.2187853 ,\n",
       "       5.45720694, 1.05206162, 2.42457433, 1.32047053, 2.07024823,\n",
       "       4.06846972, 1.89927628, 4.32986429, 2.60224139, 4.47103031,\n",
       "       1.68861134, 2.35019327, 1.51005442, 1.74650112, 4.02490894,\n",
       "       2.74583367, 0.90654617, 2.13561998, 1.80693875, 1.4175515 ,\n",
       "       5.28988269, 3.51172462, 2.50196024, 3.78250262, 5.66908962,\n",
       "       5.61467611, 5.86374043, 4.5939531 , 3.63418473, 1.25759191,\n",
       "       2.69766387, 1.38714088, 0.79496881, 2.39518988, 2.00681249,\n",
       "       2.59221753, 4.34841127, 3.18880537, 1.0335483 , 1.84199125,\n",
       "       1.26906085, 4.71726645, 2.87574663, 2.80203687, 3.67123426,\n",
       "       0.3393657 , 5.57506191, 1.31317164, 2.63020596, 3.69612126,\n",
       "       2.05284337, 4.90472997, 1.40666195, 2.7260139 , 4.28116291,\n",
       "       1.24502319, 2.94551471, 1.54313242, 4.28603443, 1.62537639,\n",
       "       2.85012127, 2.27750331, 3.09739714, 1.75735705, 1.88238664,\n",
       "       2.1376468 , 2.15145571, 3.56548718, 3.44256057, 1.64224455,\n",
       "       3.23346436, 1.45840323, 2.70937367, 3.20471684, 2.93607964,\n",
       "       2.03911418, 1.93077607, 2.01341768, 6.1789807 , 1.20857073,\n",
       "       1.73025506, 1.71938169, 1.3962036 , 2.16241697, 3.11630186,\n",
       "       3.05382534, 2.66842454, 0.33927495, 0.38117432, 2.30962246,\n",
       "       3.83123226, 2.02434504, 0.52893402, 0.40740599, 5.12235272,\n",
       "       1.91190195, 2.75287379, 2.23197235, 2.14731069, 2.14474404,\n",
       "       1.73655046, 5.83272725, 3.99307934, 3.24338125, 5.96992699,\n",
       "       2.95498865, 4.36588423, 1.19442351, 1.86119995, 3.05246813,\n",
       "       3.05138064, 3.63680662, 3.71849432, 1.41952435, 0.65849062,\n",
       "       1.39573646, 0.74983154, 2.49582963, 2.83266028, 1.89134706,\n",
       "       5.62941   , 1.79068283, 3.32822501, 0.79276548, 6.06962517,\n",
       "       2.32008856, 3.63988485, 2.17462665, 1.73418398, 4.10256291,\n",
       "       3.26792009, 2.79312715, 1.48573451, 2.50156819, 1.88387815,\n",
       "       3.43327842, 0.40690589, 2.56733115, 2.855454  , 2.63977198])"
      ]
     },
     "execution_count": 21,
     "metadata": {},
     "output_type": "execute_result"
    }
   ],
   "source": [
    "x = d[:,0]\n",
    "x"
   ]
  },
  {
   "cell_type": "code",
   "execution_count": 22,
   "metadata": {},
   "outputs": [
    {
     "data": {
      "text/plain": [
       "array([173.61495315,  68.34950732,  20.20584824, 106.60705552,\n",
       "        15.5306996 ,  87.98057571, 110.19795882,  58.98075904,\n",
       "        74.35148566, 170.18309005, 155.94670509, 175.92341352,\n",
       "       179.23104407, 112.89860796,  45.99757952,  38.66338482,\n",
       "       144.04969632,  45.18447693,  15.94406386, 142.75195553,\n",
       "       125.99361879, 134.037163  , 110.23321016, 117.6340378 ,\n",
       "        64.79242157, 193.33258657, 137.98208355,  11.79741857,\n",
       "       176.86957866, 102.53261824,  58.90146118,  37.80085186,\n",
       "        67.2541367 , 132.713414  ,  99.78523513, 184.78192962,\n",
       "       144.84963488,  63.39697088,  66.78226014, 152.33702374,\n",
       "       135.34562681,   6.82470066,  92.11420387,  67.62794344,\n",
       "        51.38938302,  98.0394972 ,  25.28335847,  24.68450561,\n",
       "        46.28529559, 189.0226782 ,  21.41573789,  67.94966992,\n",
       "       182.96536866,  61.89581359, 184.37474538,  10.01606804,\n",
       "        86.47036175,  61.93252389,   8.00533471,  36.19089572,\n",
       "       170.32605378,  60.02573333, 174.95122467, 122.83392905,\n",
       "        60.1057419 ,  13.41691935, 131.71614903,   8.57752996,\n",
       "       136.26010777,  39.22657109, 124.9262894 ,  53.44462911,\n",
       "       107.03043228,  81.27005394, 123.54655584, 176.54366492,\n",
       "        23.95628903,  72.9393998 , 139.32314092,  80.2331792 ,\n",
       "       147.56104332,  88.95716041,  35.44980986, 197.31442624,\n",
       "        95.19294435,  89.04197871, 120.49431456,  26.30462189,\n",
       "       196.28894595, 186.39124845, 151.57252626,  77.23229242,\n",
       "       125.76998883, 117.96895439,  35.7079584 , 141.64606768,\n",
       "        16.44721999,  26.81924469, 198.7586754 ,   3.01279653,\n",
       "       155.09826342,  96.54931658, 188.47049772, 186.27311276,\n",
       "        85.97188867,  25.61213081, 163.86178906, 131.07769321,\n",
       "        22.9093787 , 142.88976077,  37.91542885, 155.26512822,\n",
       "        39.83847026,  21.6844546 ,  82.81472088,   2.71060735,\n",
       "       146.27109275, 102.51129547,  64.19033546,  27.04593507,\n",
       "        49.58439876,  85.71911836, 192.58946127, 184.20919129,\n",
       "       122.84629092, 180.87176109, 192.13424305,  42.9059735 ,\n",
       "        11.87164999, 117.32087795,  64.81214292, 150.83149105,\n",
       "       176.06475814, 149.68764571,  87.79315154, 187.23382951,\n",
       "        92.19959063,  32.31609715,  35.22143326, 123.01694608,\n",
       "       132.70728585,  60.84013633,   1.73432465,  10.30514703,\n",
       "       188.88820867,  50.47699337, 160.28972938, 167.17057277,\n",
       "       109.62788033,  59.77087405, 113.54238887, 178.61129535,\n",
       "        27.58259422, 191.91721008, 125.95759626,  55.70657473,\n",
       "        81.85660537,   9.65895188,  31.29549813,  48.27728575,\n",
       "       155.1394635 ,  20.44242426, 195.09011369, 193.14220093,\n",
       "       174.58606835,  78.47533761,  23.97768512, 120.99785675,\n",
       "       189.7037486 , 149.77955406,  63.33998401,  71.25867394,\n",
       "        75.92258102,  79.7032283 , 121.0106589 ,  44.62388226,\n",
       "       179.30216973, 126.85038905,  99.44576671,  24.4582052 ,\n",
       "         9.37084226,  92.73039568,  37.61537592, 154.22391902,\n",
       "       119.17753306,   8.67836364,  59.2932219 , 113.73846828,\n",
       "        95.77538585, 187.07040738, 160.6723499 ,  39.11254542,\n",
       "        64.70260382, 123.21052835, 178.28484393,  93.35155704,\n",
       "        10.14907508,  31.76305419, 175.43500859,  55.48583888,\n",
       "       146.28285567,  45.71649583, 113.06134829,   2.0014821 ,\n",
       "        64.88805463, 179.23626433,  95.58213833,  49.42985185,\n",
       "       187.58457019,  88.86043246, 158.67381651, 193.81276836,\n",
       "        30.95790167, 190.9551795 ,  20.02404324, 179.01674851,\n",
       "        53.73113323,  71.98535385, 150.37757841, 188.5896136 ,\n",
       "        81.21179567, 147.01297852,  55.22364935,  49.14866951,\n",
       "       151.64508625, 116.22725372, 102.03790324,  17.72069153,\n",
       "       156.76353859, 162.7698234 , 172.12514894,  43.62217425,\n",
       "       131.5409114 ,  15.38437779,  30.02333519, 154.33474559,\n",
       "        12.7561408 , 109.36135086,  65.55106411, 162.88097497,\n",
       "       154.18970622, 130.74225918, 135.05510095, 117.03856355,\n",
       "        60.04686358, 185.60719745, 129.09034787, 134.21118681,\n",
       "       192.93052835, 109.06692928, 111.93143044, 107.14597325,\n",
       "        13.64013349, 183.77047964,   7.66746285,  93.22767721,\n",
       "       192.77127521,  98.3643551 ,  70.06480674, 183.99969667,\n",
       "         9.41458087,  55.36114824,  11.97010868,  67.86017476,\n",
       "        78.22760979,  99.58842813,  45.31550279, 101.50939742,\n",
       "        55.61714376,  94.31104369, 142.37814707,  89.1864408 ,\n",
       "       120.62531092, 186.37286865, 142.36472737,   8.74693124,\n",
       "       156.4707856 , 129.61463832,  66.38632393, 151.2531128 ,\n",
       "        11.25686013, 153.2086749 ,  58.76676273,  71.55892773,\n",
       "       173.78243878,  48.82707931, 122.02158913, 120.92173579,\n",
       "        20.05617945, 147.68896154, 113.81379682, 189.67712894,\n",
       "       153.41981921, 154.3439528 ,  40.12192659,  78.99350971,\n",
       "       123.45711414, 124.66997624, 124.06696306,  61.35378853,\n",
       "        77.01029313,  94.9645569 , 151.14928453, 194.50271601,\n",
       "       196.9681241 ,  50.89597863,  67.88951115,  53.92412199,\n",
       "        82.26508789, 132.36799575, 156.5823231 , 177.53853885,\n",
       "        47.10399952, 101.79256294,  48.80159217, 194.86492869,\n",
       "       199.37780681, 195.55902821,  63.20275608,  88.48700655,\n",
       "        39.42037861, 117.69470055, 100.46415015,  89.32109046,\n",
       "        98.10875177, 133.12191881, 174.06138496, 187.25691943,\n",
       "        79.7312135 , 111.69393801,  59.82439248, 115.36144212,\n",
       "        89.71899738, 196.34657321,  41.10386995, 164.86051815,\n",
       "        12.22815808, 172.57609911,   7.50114831,  54.5847984 ,\n",
       "       156.04973024,  18.91994573,  10.3926533 ,  87.71833923,\n",
       "       181.10594308, 179.0690051 ,  87.28118622, 198.03318225,\n",
       "        36.01210564, 143.5766875 ,  52.92880687,  98.65876074,\n",
       "        72.47923682, 102.63237987,  63.88068367, 163.85238769,\n",
       "        65.00577287,  26.54771432, 148.00225595,  72.17436781,\n",
       "       144.16283119, 116.96748293,  30.4709724 ,  48.40186147,\n",
       "       175.48171659, 107.12077525, 154.95011299,  81.94828662,\n",
       "       141.88847693,  12.57031472, 145.31514396,  72.88099654,\n",
       "       154.65418396,  60.32245978,  70.62369464,  11.36361086,\n",
       "       165.57063125,  95.69944065,  77.78388388, 162.96714584,\n",
       "       175.31841416,  28.8925399 ,  39.56606733, 176.28078521,\n",
       "        54.25741909,  27.68059878,  78.0825885 , 186.43016508,\n",
       "       170.06631321,  33.55564641,  98.0785095 ,  56.21106792,\n",
       "       130.29722843, 107.20083642, 163.62698449, 145.24708863,\n",
       "       108.49002867,  95.57584161,  89.95845817,  40.89654978,\n",
       "       154.99192501,  42.68804897, 175.18997473,  83.16067781,\n",
       "       167.54499222,  96.32190925,  44.27904547,  43.76240422,\n",
       "       107.17099374,  71.65346664, 110.69212181,  11.85836704,\n",
       "       162.11874799, 147.0437035 ,  83.62358262,  57.48522983,\n",
       "        53.73993396, 100.45049319, 155.42788579, 151.70925555,\n",
       "        15.41535158,  46.92471792, 106.07356165,  62.95662477,\n",
       "       191.94603473,  42.85660512, 121.62747515,  91.53626215,\n",
       "        93.51881294,  88.22477249,  37.27777781, 187.20548959,\n",
       "        41.30230358, 156.80820661,  62.39680659, 161.84123413,\n",
       "        27.00318666,  82.58137992, 178.07835672, 188.84497394,\n",
       "        79.07229526, 175.51809414, 150.12900247, 111.42897117,\n",
       "       153.49325247,  25.51772255,  21.62951988, 162.5266087 ,\n",
       "        54.14144239, 193.85173414, 164.7398749 , 142.66494879,\n",
       "       113.63039318, 127.83371404, 176.80952733,  30.15190799,\n",
       "         2.93903092,  46.59654209,  17.59760303, 177.88490662,\n",
       "       158.65504205,  90.18680219, 104.71650455, 116.60277753,\n",
       "       170.98369606, 107.33736958, 111.04070923, 139.12291303,\n",
       "        28.983951  ,  85.60497885,  41.07776919,   4.84196982,\n",
       "        13.59671819, 160.2805754 ,  92.78717046,  97.00506588,\n",
       "       127.6898268 ,  42.69187509, 125.2304316 , 198.88758318,\n",
       "        79.00331989, 183.85610438, 174.15897957, 188.18036405,\n",
       "       155.07255973,   1.70536948,  54.90620453, 141.46147954,\n",
       "       120.65891702,  24.5946624 ,  34.98681921, 150.1786509 ,\n",
       "        93.64204015, 130.56747454, 113.00992279,  97.48187606,\n",
       "        18.01491236, 105.31121329, 196.50189684, 147.40297734])"
      ]
     },
     "execution_count": 22,
     "metadata": {},
     "output_type": "execute_result"
    }
   ],
   "source": [
    "y =  d[:,1]\n",
    "y"
   ]
  },
  {
   "cell_type": "code",
   "execution_count": 23,
   "metadata": {},
   "outputs": [
    {
     "data": {
      "text/plain": [
       "array([457.166507  , 166.58594283,  67.29951259, 219.92145939,\n",
       "        26.84554251, 140.93959709, 358.16967586, 102.5211272 ,\n",
       "       190.16407655, 457.94253771, 448.84776591, 419.54615583,\n",
       "       480.33279233, 270.1812275 , 133.72795399,  76.84308946,\n",
       "       347.37441903,  83.86257226,  33.11080248, 330.02617296,\n",
       "       345.47252096, 380.86896067, 205.18475154, 254.25929075,\n",
       "       166.33562648, 485.40899363, 371.45958435,  36.14963994,\n",
       "       414.43463983, 289.19193057,  83.91883121,  66.14664509,\n",
       "       165.9027196 , 402.11032997, 223.51569204, 472.00841379,\n",
       "       346.77827826, 107.77380595, 199.99387903, 301.16224721,\n",
       "       415.43497293,  19.64357923, 317.44888292, 182.2150539 ,\n",
       "       168.97766897, 245.17197226,  77.35561267,  81.38989009,\n",
       "        74.0142374 , 468.60311235,  75.03252109, 243.51974698,\n",
       "       457.08113897, 111.34068642, 464.68110406,  38.05828537,\n",
       "       137.07924198, 174.66104892,  13.87501227, 115.88604684,\n",
       "       415.68889419, 165.70472854, 446.46361098, 341.7538385 ,\n",
       "       193.82455338,  35.15625866, 415.3779237 ,  31.10319769,\n",
       "       418.23166211,  97.27442366, 269.10272652, 160.88010273,\n",
       "       268.56323168, 314.98040728, 272.79697293, 437.8102854 ,\n",
       "        41.82797722, 183.7756669 , 404.01625713, 223.12594143,\n",
       "       384.4387896 , 153.21453191, 123.73255672, 496.07519856,\n",
       "       301.05263297, 241.05201286, 292.34471384,  88.35673931,\n",
       "       492.68642621, 463.03335717, 358.62398074, 253.2987602 ,\n",
       "       286.67977223, 182.80988977,  83.21711942, 393.70840657,\n",
       "        23.72623011,  86.18429517, 500.31738838,  11.49397658,\n",
       "       427.38192336, 343.96872412, 469.44849832, 445.53717184,\n",
       "       216.21656775,  49.55009829, 463.76705782, 331.42475959,\n",
       "        53.66079146, 375.98727422, 128.54184748, 490.61283787,\n",
       "       106.63443571,  57.0123402 , 191.61169377,  15.07057071,\n",
       "       358.12149705, 221.62907028, 104.84326574, 114.58864627,\n",
       "       155.49755636, 237.74395912, 478.55428737, 473.17857172,\n",
       "       319.0288102 , 456.16027517, 483.94453067, 102.86712463,\n",
       "        31.90822359, 301.43869027, 224.89447149, 412.88461979,\n",
       "       478.78630326, 385.49876676, 236.23841996, 456.46865463,\n",
       "       246.24226335, 124.5794092 ,  92.28941001, 293.9723985 ,\n",
       "       358.540764  , 156.47441652,   9.13705455,  39.17821371,\n",
       "       486.1644939 , 116.68893068, 390.71164903, 438.21928667,\n",
       "       222.55863909, 149.72177137, 265.53499911, 422.7142496 ,\n",
       "        64.65009389, 484.55351564, 316.6562344 , 157.74297632,\n",
       "       162.52893411,  21.6168296 , 124.36500533, 116.10834268,\n",
       "       388.64922319,  59.26977368, 489.42973473, 482.79645811,\n",
       "       419.16216313, 211.89264521,  71.39517046, 343.44168597,\n",
       "       482.66691155, 428.44300636, 125.70112171, 153.85117741,\n",
       "       180.41242893, 156.57534967, 345.82307515,  72.84162207,\n",
       "       439.66434534, 270.53394488, 285.73004726, 112.46356738,\n",
       "        34.00560917, 236.06818681, 106.95407455, 397.30107066,\n",
       "       325.074657  ,  28.0567262 ,  94.09397998, 250.6396513 ,\n",
       "       290.67733061, 489.9555578 , 356.29042926, 103.19638198,\n",
       "       168.82010137, 334.21834286, 428.50335965, 181.44037267,\n",
       "        28.23139871,  75.66365319, 422.31700362, 151.20599831,\n",
       "       374.60267621, 108.83797541, 307.41325044,  10.02005935,\n",
       "       143.0170791 , 498.59720916, 205.14664242,  72.31051019,\n",
       "       482.92258347, 296.13920086, 438.33609972, 487.63158147,\n",
       "        65.13170034, 484.56374291,  25.74344588, 476.24426471,\n",
       "       159.81095984, 225.65579783, 429.25377399, 455.83281756,\n",
       "       120.40806178, 334.37950107, 151.7100134 , 159.42089246,\n",
       "       452.46218973, 320.20552968, 270.93572387,  51.59394747,\n",
       "       393.42989329, 434.64565323, 473.00931745, 169.57062611,\n",
       "       288.7082572 ,  67.79431755,  85.63230324, 357.63742038,\n",
       "        13.18215072, 235.92311451, 138.07460614, 419.22011791,\n",
       "       400.94784485, 355.96093741, 373.15610704, 310.48044918,\n",
       "       236.89139541, 473.53796771, 376.89844928, 358.01552708,\n",
       "       480.51653281, 153.82133995, 341.69262333, 328.13300011,\n",
       "        12.61337093, 458.85314631,  17.70790996, 222.491567  ,\n",
       "       486.0616766 , 203.77929589, 111.60973853, 471.12835347,\n",
       "        40.6921428 , 137.19322337,  28.30513404, 107.89890604,\n",
       "       182.24834028, 189.56550888,  81.98685646, 208.40826572,\n",
       "        35.22596388, 283.25490608, 325.52784346, 254.93078272,\n",
       "       318.42571607, 460.60763324, 390.56480337,  18.25653296,\n",
       "       375.26784652, 250.39122561, 149.63419426, 403.79463175,\n",
       "        18.45326012, 354.11708739, 177.85042927, 183.58034094,\n",
       "       483.63720845, 135.19235676, 233.29950122, 344.68435573,\n",
       "        44.46281381, 380.77598722, 198.46196055, 463.56497963,\n",
       "       361.24134637, 381.15305559,  71.25276205, 198.54939195,\n",
       "       252.82171601, 212.39128644, 311.04478646, 141.77238083,\n",
       "       156.43290557, 237.97151833, 408.13618957, 488.63135749,\n",
       "       505.89496011, 158.42097795, 159.70489537, 201.97137467,\n",
       "       232.34737251, 401.20440136, 436.12362621, 430.04111202,\n",
       "       131.75414116, 206.76710204, 105.06259322, 481.54731246,\n",
       "       502.24667235, 496.83970861, 142.09069502, 133.13751174,\n",
       "        68.65917187, 287.07325997, 280.17438166, 260.37893893,\n",
       "       219.2433038 , 319.91019716, 411.91933558, 477.77986914,\n",
       "       238.8118451 , 275.81031919, 146.46648802, 355.85441216,\n",
       "       180.23999004, 498.43064682,  94.04114763, 431.37175666,\n",
       "        21.43954178, 455.22913355,  22.30004385, 140.4910724 ,\n",
       "       422.49441752,  57.25299226,  21.40655315, 209.4748712 ,\n",
       "       452.35489965, 445.75984003, 177.92831441, 500.0700551 ,\n",
       "        21.45494096, 362.94532263,  87.36120635, 246.05044671,\n",
       "       199.11427945, 306.78384186, 157.36515592, 365.7846743 ,\n",
       "       190.51953358,  80.57802189, 308.03700781, 225.66921853,\n",
       "       377.82349857, 320.3776513 ,  91.3435651 , 106.68229506,\n",
       "       491.68239619, 352.18069745, 482.78944375, 297.45502176,\n",
       "       376.50783134,  34.54404688, 355.31610559,  87.35894839,\n",
       "       397.31043538,  89.19078879, 134.10675395,  27.44296814,\n",
       "       473.82254402, 195.71710434, 219.45632983, 490.35069838,\n",
       "       439.71027619,  67.05319625, 157.37469577, 422.28760273,\n",
       "        77.25782364,  27.9407525 , 221.94174176, 457.53732685,\n",
       "       450.41402936,  94.69813769, 133.31966703, 167.50538801,\n",
       "       310.33436136, 213.79850745, 440.12011648, 332.20081654,\n",
       "       297.65001909, 219.38790596, 243.74932545, 104.0586228 ,\n",
       "       351.98958865, 108.65845556, 439.38770508, 242.80880019,\n",
       "       460.62314352, 231.23370981, 130.2352709 ,  86.95698526,\n",
       "       207.56646234, 182.6138542 , 308.99667972,  57.07218919,\n",
       "       433.66109443, 422.03710612, 283.72223184, 203.60716019,\n",
       "        93.80385061, 266.95464916, 372.86434032, 331.33508215,\n",
       "        62.73412583, 131.73079488, 239.83549105, 166.05444856,\n",
       "       484.29520633,  99.90707272, 244.92162629, 263.82344656,\n",
       "       213.44468331, 236.58643253,  93.1919448 , 474.98425184,\n",
       "       192.33082625, 384.04287382, 200.54055933, 411.72453293,\n",
       "        39.26968666, 209.29867765, 468.34121272, 470.89472279,\n",
       "        82.41250071, 408.70798208, 420.98108456, 276.50750796,\n",
       "       389.46779623,  53.78836065,  69.90295812, 392.01869681,\n",
       "       144.52422223, 496.90812545, 393.76315539, 354.24211065,\n",
       "       304.47868951, 308.30427827, 417.53000838,  76.98623287,\n",
       "        12.29507996,  88.09775161,  80.6876857 , 437.4424235 ,\n",
       "       407.4829344 , 221.77632576, 241.4022983 , 285.69411606,\n",
       "       442.94464476, 302.98490917, 258.47813297, 346.90829208,\n",
       "        62.96666199, 226.87198561,  87.77241188,  18.70585732,\n",
       "        39.3376669 , 403.05828915, 262.01423516, 188.85874128,\n",
       "       349.5160506 , 136.20858027, 393.90738152, 499.53318055,\n",
       "       241.81039601, 448.81373079, 487.82548429, 488.89873847,\n",
       "       368.46416287,   9.15800264, 120.31542113, 428.59306275,\n",
       "       253.96148989,  27.95483161,  96.1721208 , 353.32959919,\n",
       "       315.38376978, 268.9388992 , 205.39586908, 180.14893302,\n",
       "        38.67864529, 247.06484611, 492.98519636, 376.98025124])"
      ]
     },
     "execution_count": 23,
     "metadata": {},
     "output_type": "execute_result"
    }
   ],
   "source": [
    "z =  d[:,2]\n",
    "z"
   ]
  },
  {
   "cell_type": "markdown",
   "metadata": {},
   "source": [
    "## 2- Représenter graphiquement x sous la forme d'un histogramme"
   ]
  },
  {
   "cell_type": "code",
   "execution_count": 25,
   "metadata": {},
   "outputs": [
    {
     "data": {
      "image/png": "[encoded data removed]",
      "text/plain": [
       "<Figure size 576x360 with 1 Axes>"
      ]
     },
     "metadata": {
      "needs_background": "light"
     },
     "output_type": "display_data"
    }
   ],
   "source": [
    "plt.figure(figsize=(8,5))\n",
    "plt.hist(x, density=True)\n",
    "plt.ylabel(\"valeure de x\")\n",
    "plt.title(\"Histogramme de x\")\n",
    "plt.show()"
   ]
  },
  {
   "cell_type": "markdown",
   "metadata": {},
   "source": [
    "## 3- Représenter z en fonction de y dans un nuage de points"
   ]
  },
  {
   "cell_type": "code",
   "execution_count": 26,
   "metadata": {},
   "outputs": [
    {
     "data": {
      "image/png": "[encoded data removed]",
      "text/plain": [
       "<Figure size 432x288 with 1 Axes>"
      ]
     },
     "metadata": {
      "needs_background": "light"
     },
     "output_type": "display_data"
    }
   ],
   "source": [
    "plt.scatter(y,z)\n",
    "plt.xlabel(\"val y\")\n",
    "plt.ylabel(\"val z\")\n",
    "plt.title(\"Nuage de points de y en fontion de z\")\n",
    "plt.show()"
   ]
  },
  {
   "cell_type": "markdown",
   "metadata": {},
   "source": [
    "## 4- Calculer les moyennes et les écart-types des variables y et z"
   ]
  },
  {
   "cell_type": "code",
   "execution_count": 28,
   "metadata": {},
   "outputs": [
    {
     "data": {
      "text/plain": [
       "101.54097779955228"
      ]
     },
     "execution_count": 28,
     "metadata": {},
     "output_type": "execute_result"
    }
   ],
   "source": [
    "my = np.mean(y)\n",
    "my"
   ]
  },
  {
   "cell_type": "code",
   "execution_count": 29,
   "metadata": {},
   "outputs": [
    {
     "data": {
      "text/plain": [
       "256.720180627265"
      ]
     },
     "execution_count": 29,
     "metadata": {},
     "output_type": "execute_result"
    }
   ],
   "source": [
    "mz = np.mean(z)\n",
    "mz"
   ]
  },
  {
   "cell_type": "code",
   "execution_count": 31,
   "metadata": {},
   "outputs": [
    {
     "data": {
      "text/plain": [
       "57.149820288758164"
      ]
     },
     "execution_count": 31,
     "metadata": {},
     "output_type": "execute_result"
    }
   ],
   "source": [
    "sigy = np.std(y)\n",
    "sigy"
   ]
  },
  {
   "cell_type": "code",
   "execution_count": 32,
   "metadata": {},
   "outputs": [
    {
     "data": {
      "text/plain": [
       "149.365880512117"
      ]
     },
     "execution_count": 32,
     "metadata": {},
     "output_type": "execute_result"
    }
   ],
   "source": [
    "sigz = np.std(z)\n",
    "sigz"
   ]
  },
  {
   "cell_type": "markdown",
   "metadata": {},
   "source": [
    "## 5- Calculer la covariance de y et z"
   ]
  },
  {
   "cell_type": "code",
   "execution_count": 33,
   "metadata": {},
   "outputs": [],
   "source": [
    "## Définir la fonction covariance dans cette cellule\n",
    "def covariance(s,t):\n",
    "    s = np.array(s)\n",
    "    t = np.array(t)\n",
    "    return (sum(s*t)/len(s)) - (s.mean()*t.mean())"
   ]
  },
  {
   "cell_type": "code",
   "execution_count": 34,
   "metadata": {},
   "outputs": [
    {
     "data": {
      "text/plain": [
       "8275.260189473564"
      ]
     },
     "execution_count": 34,
     "metadata": {},
     "output_type": "execute_result"
    }
   ],
   "source": [
    "cov = covariance(y,z)\n",
    "cov"
   ]
  },
  {
   "cell_type": "markdown",
   "metadata": {},
   "source": [
    "## 6- Calculer le coefficient de corrélation linéaire de y et z"
   ]
  },
  {
   "cell_type": "code",
   "execution_count": null,
   "metadata": {},
   "outputs": [],
   "source": [
    "r = \n",
    "r"
   ]
  },
  {
   "cell_type": "markdown",
   "metadata": {},
   "source": [
    "## 7- Déterminer l'équation de la droite d'ajustement linéaire de z en fonction de y"
   ]
  },
  {
   "cell_type": "code",
   "execution_count": null,
   "metadata": {},
   "outputs": [],
   "source": [
    "a =\n",
    "b = \n",
    "if b < 0:\n",
    "    print(\"y = \", a, \"x - \", abs(b))\n",
    "else:\n",
    "    print(\"y = \", a, \"x + \", b)"
   ]
  },
  {
   "cell_type": "markdown",
   "metadata": {},
   "source": [
    "## 8- Reprendre le graphique de la question 3- (copié + collé) et y ajouter la droite d'ajustement (d'une couleur différente de la courbe)"
   ]
  },
  {
   "cell_type": "code",
   "execution_count": null,
   "metadata": {},
   "outputs": [],
   "source": [
    "\n",
    "plt.show()"
   ]
  },
  {
   "cell_type": "markdown",
   "metadata": {},
   "source": [
    "## 9- (Bonus) Reprendre le graphe de la question précédente et y ajouter une légende et mentionner la valeur du coefficient de corrélation linéaire"
   ]
  },
  {
   "cell_type": "code",
   "execution_count": null,
   "metadata": {},
   "outputs": [],
   "source": [
    "\n",
    "plt.show()"
   ]
  },
  {
   "cell_type": "markdown",
   "metadata": {},
   "source": [
    "# Partie non évaluée"
   ]
  },
  {
   "cell_type": "code",
   "execution_count": 13,
   "metadata": {},
   "outputs": [],
   "source": [
    "import numpy as np\n",
    "import matplotlib.pyplot as plt\n",
    "import pickle\n"
   ]
  }
 ],
 "metadata": {
  "kernelspec": {
   "display_name": "Python 3 (ipykernel)",
   "language": "python",
   "name": "python3"
  },
  "language_info": {
   "codemirror_mode": {
    "name": "ipython",
    "version": 3
   },
   "file_extension": ".py",
   "mimetype": "text/x-python",
   "name": "python",
   "nbconvert_exporter": "python",
   "pygments_lexer": "ipython3",
   "version": "3.9.7"
  }
 },
 "nbformat": 4,
 "nbformat_minor": 4
}
